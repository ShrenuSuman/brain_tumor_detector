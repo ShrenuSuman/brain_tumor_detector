{
  "nbformat": 4,
  "nbformat_minor": 0,
  "metadata": {
    "colab": {
      "name": "Brain_tumor_detection.ipynb",
      "provenance": [],
      "collapsed_sections": [],
      "authorship_tag": "ABX9TyPSHlH26zNPPKOEU82bDW3G",
      "include_colab_link": true
    },
    "kernelspec": {
      "name": "python3",
      "display_name": "Python 3"
    },
    "language_info": {
      "name": "python"
    }
  },
  "cells": [
    {
      "cell_type": "markdown",
      "metadata": {
        "id": "view-in-github",
        "colab_type": "text"
      },
      "source": [
        "<a href=\"https://colab.research.google.com/github/AjanitDevs/AjanitDevs/blob/main/Brain_tumor_detection.ipynb\" target=\"_parent\"><img src=\"https://colab.research.google.com/assets/colab-badge.svg\" alt=\"Open In Colab\"/></a>"
      ]
    },
    {
      "cell_type": "markdown",
      "source": [
        "IMPORTING NECESSARY LIBRARIES\n"
      ],
      "metadata": {
        "id": "Kxnb7uwlkKgO"
      }
    },
    {
      "cell_type": "code",
      "source": [
        "import numpy as np\n",
        "import pandas as pd\n",
        "import matplotlib.pyplot as plt"
      ],
      "metadata": {
        "id": "42IPrtGT61w4"
      },
      "execution_count": null,
      "outputs": []
    },
    {
      "cell_type": "code",
      "source": [
        "import keras"
      ],
      "metadata": {
        "id": "IDTACvcUjzX0"
      },
      "execution_count": null,
      "outputs": []
    },
    {
      "cell_type": "code",
      "source": [
        "from keras.models import Sequential"
      ],
      "metadata": {
        "id": "GKnfUHW8j0Lu"
      },
      "execution_count": null,
      "outputs": []
    },
    {
      "cell_type": "code",
      "source": [
        "from sklearn.model_selection import train_test_split\n",
        "from PIL import Image"
      ],
      "metadata": {
        "id": "4MS9wdPdkGZR"
      },
      "execution_count": null,
      "outputs": []
    },
    {
      "cell_type": "code",
      "source": [
        "from sklearn.preprocessing import OneHotEncoder"
      ],
      "metadata": {
        "id": "9heDSADIkxL4"
      },
      "execution_count": null,
      "outputs": []
    },
    {
      "cell_type": "markdown",
      "source": [
        "CLASSIFICATION OF THE ONE HOT ENCODING CLASSES"
      ],
      "metadata": {
        "id": "0o_iDkvOkJSs"
      }
    },
    {
      "cell_type": "code",
      "source": [
        "encoder = OneHotEncoder()\n",
        "encoder.fit([[0],[1]])"
      ],
      "metadata": {
        "id": "s7oMXVseldeA",
        "colab": {
          "base_uri": "https://localhost:8080/"
        },
        "outputId": "cd96a157-b648-49d1-e523-1c527b9e2436"
      },
      "execution_count": null,
      "outputs": [
        {
          "output_type": "execute_result",
          "data": {
            "text/plain": [
              "OneHotEncoder()"
            ]
          },
          "metadata": {},
          "execution_count": 6
        }
      ]
    },
    {
      "cell_type": "code",
      "source": [
        "from google.colab import drive\n",
        "drive.mount('/content/gdrive')"
      ],
      "metadata": {
        "colab": {
          "base_uri": "https://localhost:8080/"
        },
        "id": "TDaUrnwOlf3m",
        "outputId": "185b1b80-3969-4de4-fd3b-0ad5aa641015"
      },
      "execution_count": null,
      "outputs": [
        {
          "output_type": "stream",
          "name": "stdout",
          "text": [
            "Mounted at /content/gdrive\n"
          ]
        }
      ]
    },
    {
      "cell_type": "code",
      "source": [
        "import os\n",
        "data = []\n",
        "paths = []\n",
        "result = []\n"
      ],
      "metadata": {
        "id": "UjaK1y7Ko6NE"
      },
      "execution_count": null,
      "outputs": []
    },
    {
      "cell_type": "markdown",
      "source": [
        "FOR IMAGES WITH TUMOR\n",
        "(assigning the encoder value \"1\")"
      ],
      "metadata": {
        "id": "Gu2TdtWo7rCL"
      }
    },
    {
      "cell_type": "code",
      "source": [
        "for r,d,f in os.walk(r\"/content/gdrive/MyDrive/brain tumor data/brain_tumor_dataset/yes\"):\n",
        "   for file in f:\n",
        "        if '.jpg' in file:\n",
        "            paths.append(os.path.join(r, file))\n",
        "for path in paths:\n",
        "    img = Image.open(path)\n",
        "    img = img.resize((128, 128))\n",
        "    img = np.array(img)\n",
        "    if(img.shape == (128,128,3)):\n",
        "        data.append(np.array(img))\n",
        "        result.append(encoder.transform([[1]]).toarray())"
      ],
      "metadata": {
        "id": "lnT7Zip3yqaS"
      },
      "execution_count": null,
      "outputs": []
    },
    {
      "cell_type": "markdown",
      "source": [
        "FOR IMAGES WITHOUT TUMOR\n",
        "(assigning the encoder value \"0\")"
      ],
      "metadata": {
        "id": "FOo0Mg1Y7wCF"
      }
    },
    {
      "cell_type": "code",
      "source": [
        "paths = []\n",
        "for r,d,f in os.walk(r'/content/gdrive/MyDrive/brain tumor data/brain_tumor_dataset/no'):\n",
        "   for file in  f:\n",
        "     if '.jpg' in file:\n",
        "       paths.append(os.path.join(r,file))\n",
        "   for path in paths:\n",
        "     img = Image.open(path)\n",
        "     img = img.resize((128,128))\n",
        "     img = np.array(img)\n",
        "     if(img.shape==(128,128,3)):\n",
        "       data.append(np.array(img))\n",
        "       result.append(encoder.transform([[0]]).toarray())   \n"
      ],
      "metadata": {
        "id": "6VxQX04Lz3M6"
      },
      "execution_count": null,
      "outputs": []
    },
    {
      "cell_type": "code",
      "source": [
        "data = np.array(data)"
      ],
      "metadata": {
        "id": "ZawZuy8KADCU"
      },
      "execution_count": null,
      "outputs": []
    },
    {
      "cell_type": "code",
      "source": [
        "data.shape"
      ],
      "metadata": {
        "colab": {
          "base_uri": "https://localhost:8080/"
        },
        "id": "g-FalvWTGiNF",
        "outputId": "9af3b4a3-c15f-42f0-ee9c-574b2f068552"
      },
      "execution_count": null,
      "outputs": [
        {
          "output_type": "execute_result",
          "data": {
            "text/plain": [
              "(139, 128, 128, 3)"
            ]
          },
          "metadata": {},
          "execution_count": 12
        }
      ]
    },
    {
      "cell_type": "code",
      "source": [
        "result = np.array(result)"
      ],
      "metadata": {
        "id": "m3WczlvkGk-h"
      },
      "execution_count": null,
      "outputs": []
    },
    {
      "cell_type": "code",
      "source": [
        "result = result.reshape(139,2)"
      ],
      "metadata": {
        "id": "B2SZl8eBNO8G"
      },
      "execution_count": null,
      "outputs": []
    },
    {
      "cell_type": "markdown",
      "source": [
        "LET US SPLIT THE DATA INTO TRAINING AND TESTING"
      ],
      "metadata": {
        "id": "pCX8SStjNVQG"
      }
    },
    {
      "cell_type": "code",
      "source": [
        "x_train,x_test,y_train,y_test = train_test_split(data,result,test_size = 0.3,random_state = 0)"
      ],
      "metadata": {
        "id": "LFFwjPAdNTdo"
      },
      "execution_count": null,
      "outputs": []
    },
    {
      "cell_type": "markdown",
      "source": [
        "LET US BUILD THE MODEL\n"
      ],
      "metadata": {
        "id": "ipt1Ln6hPFce"
      }
    },
    {
      "cell_type": "code",
      "source": [
        "model = Sequential()\n",
        "from keras.layers import Conv2D, MaxPooling2D, Flatten, Dense, Dropout, BatchNormalization"
      ],
      "metadata": {
        "id": "AG1zXLy7OQSt"
      },
      "execution_count": null,
      "outputs": []
    },
    {
      "cell_type": "code",
      "source": [
        "model.add(Conv2D(32,kernel_size = (2,2),input_shape = (128,128,3),padding = 'Same'))\n",
        "model.add(Conv2D(32,kernel_size = (2,2),activation = 'relu',padding = 'Same'))\n",
        "model.add(BatchNormalization())"
      ],
      "metadata": {
        "id": "wJjKgif5PJ9S"
      },
      "execution_count": null,
      "outputs": []
    },
    {
      "cell_type": "code",
      "source": [
        "model.add(MaxPooling2D(pool_size=(2,2)))\n",
        "model.add(Dropout(0.25))\n",
        "model.add(Flatten())"
      ],
      "metadata": {
        "id": "62koGVqSebzP"
      },
      "execution_count": null,
      "outputs": []
    },
    {
      "cell_type": "code",
      "source": [
        "model.add(Dense(512, activation = 'relu'))"
      ],
      "metadata": {
        "id": "ZUuzamuigxw0"
      },
      "execution_count": null,
      "outputs": []
    },
    {
      "cell_type": "code",
      "source": [
        "model.add(Dropout(0.5))"
      ],
      "metadata": {
        "id": "ZimfyzfPg3sr"
      },
      "execution_count": null,
      "outputs": []
    },
    {
      "cell_type": "code",
      "source": [
        "model.add(Dense(2, activation = 'softmax'))"
      ],
      "metadata": {
        "id": "rA2lFtJnhCBY"
      },
      "execution_count": null,
      "outputs": []
    },
    {
      "cell_type": "code",
      "source": [
        "import tensorflow as tf"
      ],
      "metadata": {
        "id": "594hDxky8qLs"
      },
      "execution_count": null,
      "outputs": []
    },
    {
      "cell_type": "code",
      "source": [
        "model.compile(loss = 'categorical_crossentropy',optimizer = 'Adamax',metrics = ['accuracy'])"
      ],
      "metadata": {
        "id": "GFUMaI-nhFPI"
      },
      "execution_count": null,
      "outputs": []
    },
    {
      "cell_type": "code",
      "source": [
        "print(model.summary())"
      ],
      "metadata": {
        "colab": {
          "base_uri": "https://localhost:8080/"
        },
        "id": "mlWeWrwrlVdN",
        "outputId": "46b8b89d-b780-4528-cc94-bfec931499ef"
      },
      "execution_count": null,
      "outputs": [
        {
          "output_type": "stream",
          "name": "stdout",
          "text": [
            "Model: \"sequential\"\n",
            "_________________________________________________________________\n",
            " Layer (type)                Output Shape              Param #   \n",
            "=================================================================\n",
            " conv2d (Conv2D)             (None, 128, 128, 32)      416       \n",
            "                                                                 \n",
            " conv2d_1 (Conv2D)           (None, 128, 128, 32)      4128      \n",
            "                                                                 \n",
            " batch_normalization (BatchN  (None, 128, 128, 32)     128       \n",
            " ormalization)                                                   \n",
            "                                                                 \n",
            " max_pooling2d (MaxPooling2D  (None, 64, 64, 32)       0         \n",
            " )                                                               \n",
            "                                                                 \n",
            " dropout (Dropout)           (None, 64, 64, 32)        0         \n",
            "                                                                 \n",
            " flatten (Flatten)           (None, 131072)            0         \n",
            "                                                                 \n",
            " dense (Dense)               (None, 512)               67109376  \n",
            "                                                                 \n",
            " dropout_1 (Dropout)         (None, 512)               0         \n",
            "                                                                 \n",
            " dense_1 (Dense)             (None, 2)                 1026      \n",
            "                                                                 \n",
            "=================================================================\n",
            "Total params: 67,115,074\n",
            "Trainable params: 67,115,010\n",
            "Non-trainable params: 64\n",
            "_________________________________________________________________\n",
            "None\n"
          ]
        }
      ]
    },
    {
      "cell_type": "code",
      "source": [
        "y_train.shape"
      ],
      "metadata": {
        "id": "7wOZmV2wlYNa",
        "colab": {
          "base_uri": "https://localhost:8080/"
        },
        "outputId": "e30ff842-fe1e-4d3f-b8e2-6a3a38bb7e3c"
      },
      "execution_count": null,
      "outputs": [
        {
          "output_type": "execute_result",
          "data": {
            "text/plain": [
              "(97, 2)"
            ]
          },
          "metadata": {},
          "execution_count": 25
        }
      ]
    },
    {
      "cell_type": "code",
      "source": [
        "history = model.fit(x_train, y_train, epochs = 30, batch_size = 40)"
      ],
      "metadata": {
        "colab": {
          "base_uri": "https://localhost:8080/"
        },
        "id": "nfR3RKrbjEaP",
        "outputId": "0f5caf50-1ce4-47ce-ef62-b8ac546f8134"
      },
      "execution_count": null,
      "outputs": [
        {
          "output_type": "stream",
          "name": "stdout",
          "text": [
            "Epoch 1/30\n",
            "3/3 [==============================] - 7s 1s/step - loss: 26.2096 - accuracy: 0.4639\n",
            "Epoch 2/30\n",
            "3/3 [==============================] - 4s 1s/step - loss: 17.1875 - accuracy: 0.7938\n",
            "Epoch 3/30\n",
            "3/3 [==============================] - 4s 1s/step - loss: 6.1441 - accuracy: 0.8557\n",
            "Epoch 4/30\n",
            "3/3 [==============================] - 4s 1s/step - loss: 7.2158 - accuracy: 0.8557\n",
            "Epoch 5/30\n",
            "3/3 [==============================] - 4s 1s/step - loss: 2.5742 - accuracy: 0.9175\n",
            "Epoch 6/30\n",
            "3/3 [==============================] - 4s 1s/step - loss: 3.3437 - accuracy: 0.8866\n",
            "Epoch 7/30\n",
            "3/3 [==============================] - 4s 1s/step - loss: 5.0122 - accuracy: 0.9381\n",
            "Epoch 8/30\n",
            "3/3 [==============================] - 4s 1s/step - loss: 1.3317 - accuracy: 0.9485\n",
            "Epoch 9/30\n",
            "3/3 [==============================] - 4s 1s/step - loss: 0.3540 - accuracy: 0.9794\n",
            "Epoch 10/30\n",
            "3/3 [==============================] - 4s 1s/step - loss: 1.0558 - accuracy: 0.9588\n",
            "Epoch 11/30\n",
            "3/3 [==============================] - 4s 1s/step - loss: 0.6848 - accuracy: 0.9794\n",
            "Epoch 12/30\n",
            "3/3 [==============================] - 4s 1s/step - loss: 0.4611 - accuracy: 0.9691\n",
            "Epoch 13/30\n",
            "3/3 [==============================] - 4s 1s/step - loss: 0.2848 - accuracy: 0.9897\n",
            "Epoch 14/30\n",
            "3/3 [==============================] - 4s 1s/step - loss: 0.6298 - accuracy: 0.9794\n",
            "Epoch 15/30\n",
            "3/3 [==============================] - 4s 1s/step - loss: 0.6330 - accuracy: 0.9691\n",
            "Epoch 16/30\n",
            "3/3 [==============================] - 4s 1s/step - loss: 7.2963e-06 - accuracy: 1.0000\n",
            "Epoch 17/30\n",
            "3/3 [==============================] - 4s 1s/step - loss: 0.0529 - accuracy: 0.9897\n",
            "Epoch 18/30\n",
            "3/3 [==============================] - 4s 1s/step - loss: 0.1584 - accuracy: 0.9897\n",
            "Epoch 19/30\n",
            "3/3 [==============================] - 4s 1s/step - loss: 0.4409 - accuracy: 0.9897\n",
            "Epoch 20/30\n",
            "3/3 [==============================] - 4s 1s/step - loss: 0.0882 - accuracy: 0.9897\n",
            "Epoch 21/30\n",
            "3/3 [==============================] - 4s 1s/step - loss: 0.0000e+00 - accuracy: 1.0000\n",
            "Epoch 22/30\n",
            "3/3 [==============================] - 4s 1s/step - loss: 0.2386 - accuracy: 0.9897\n",
            "Epoch 23/30\n",
            "3/3 [==============================] - 4s 1s/step - loss: 1.4428e-04 - accuracy: 1.0000\n",
            "Epoch 24/30\n",
            "3/3 [==============================] - 4s 1s/step - loss: 0.2522 - accuracy: 0.9897\n",
            "Epoch 25/30\n",
            "3/3 [==============================] - 4s 1s/step - loss: 8.8485e-08 - accuracy: 1.0000\n",
            "Epoch 26/30\n",
            "3/3 [==============================] - 4s 1s/step - loss: 0.0058 - accuracy: 1.0000\n",
            "Epoch 27/30\n",
            "3/3 [==============================] - 4s 1s/step - loss: 0.1571 - accuracy: 0.9897\n",
            "Epoch 28/30\n",
            "3/3 [==============================] - 4s 1s/step - loss: 0.4024 - accuracy: 0.9897\n",
            "Epoch 29/30\n",
            "3/3 [==============================] - 4s 1s/step - loss: 0.0000e+00 - accuracy: 1.0000\n",
            "Epoch 30/30\n",
            "3/3 [==============================] - 4s 1s/step - loss: 0.0672 - accuracy: 0.9897\n"
          ]
        }
      ]
    },
    {
      "cell_type": "code",
      "source": [
        "history.history.keys()"
      ],
      "metadata": {
        "id": "PfYb46q1kG5c",
        "colab": {
          "base_uri": "https://localhost:8080/"
        },
        "outputId": "2cf833fd-7a47-44b6-f62e-e1963384ffec"
      },
      "execution_count": null,
      "outputs": [
        {
          "output_type": "execute_result",
          "data": {
            "text/plain": [
              "dict_keys(['loss', 'accuracy'])"
            ]
          },
          "metadata": {},
          "execution_count": 27
        }
      ]
    },
    {
      "cell_type": "code",
      "source": [
        "plt.plot(history.history['loss'])\n",
        "plt.plot(history.history['accuracy'])\n",
        "plt.title('Model Loss')\n",
        "plt.ylabel('Loss')\n",
        "plt.xlabel('Epoch')\n",
        "plt.legend(['Test', 'validation'], loc= 'upper right')\n",
        "plt.show()"
      ],
      "metadata": {
        "colab": {
          "base_uri": "https://localhost:8080/",
          "height": 295
        },
        "id": "L9z5VCA8zywc",
        "outputId": "8662ec87-c4a4-4c74-a48b-4871adc53341"
      },
      "execution_count": null,
      "outputs": [
        {
          "output_type": "display_data",
          "data": {
            "text/plain": [
              "<Figure size 432x288 with 1 Axes>"
            ],
            "image/png": "[encoded data removed]"
          },
          "metadata": {
            "needs_background": "light"
          }
        }
      ]
    },
    {
      "cell_type": "markdown",
      "source": [
        ""
      ],
      "metadata": {
        "id": "MdqxKpgZ9B6Y"
      }
    },
    {
      "cell_type": "code",
      "source": [
        "def names(number):\n",
        "    if number==0:\n",
        "        return 'Its a Tumor'\n",
        "    else:\n",
        "        return 'No,Its not a tumor'"
      ],
      "metadata": {
        "id": "s1CgPbPr3Eg-"
      },
      "execution_count": null,
      "outputs": []
    },
    {
      "cell_type": "code",
      "source": [
        "from matplotlib.pyplot import imshow\n",
        "img = Image.open(r\"/content/gdrive/MyDrive/brain tumor data/brain_tumor_dataset/yes/Y1.jpg\")\n",
        "x = np.array(img.resize((128,128)))\n",
        "x= x.reshape(1,128,128,3)\n",
        "res = model.predict_on_batch(x)\n",
        "classification = np.where(res == np.amax(res))[1][0]\n",
        "imshow(img)\n",
        "print(str(res[0][classification]*100) + '%Confidence This is ' + names(classification))"
      ],
      "metadata": {
        "colab": {
          "base_uri": "https://localhost:8080/",
          "height": 287
        },
        "id": "qI_b08Cq_rf8",
        "outputId": "1f7fb97f-2010-41ff-b31d-0aae90806e0e"
      },
      "execution_count": null,
      "outputs": [
        {
          "output_type": "stream",
          "name": "stdout",
          "text": [
            "100.0%Confidence This is No,Its not a tumor\n"
          ]
        },
        {
          "output_type": "display_data",
          "data": {
            "text/plain": [
              "<Figure size 432x288 with 1 Axes>"
            ],
            "image/png": "[encoded data removed]"
          },
          "metadata": {
            "needs_background": "light"
          }
        }
      ]
    },
    {
      "cell_type": "code",
      "source": [
        ""
      ],
      "metadata": {
        "id": "g1CBR9irBEAc"
      },
      "execution_count": null,
      "outputs": []
    }
  ]
}